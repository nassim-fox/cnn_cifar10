{
  "nbformat": 4,
  "nbformat_minor": 0,
  "metadata": {
    "colab": {
      "name": "cnn_cifar_55.ipynb",
      "version": "0.3.2",
      "provenance": [],
      "machine_shape": "hm"
    },
    "kernelspec": {
      "name": "python3",
      "display_name": "Python 3"
    }
  },
  "cells": [
    {
      "cell_type": "code",
      "metadata": {
        "id": "0Aauc3IAKxx8",
        "colab_type": "code",
        "outputId": "ca664436-ffb1-4446-cd98-40de6e8e4fb3",
        "colab": {
          "base_uri": "https://localhost:8080/",
          "height": 34
        }
      },
      "source": [
        "import tensorflow as tf\n",
        "\n",
        "import numpy as np\n",
        "from matplotlib import pyplot as p\n",
        "\n",
        "from keras import Sequential\n",
        "from keras.layers import Dense, Conv2D, Flatten, MaxPool2D"
      ],
      "execution_count": 0,
      "outputs": [
        {
          "output_type": "stream",
          "text": [
            "Using TensorFlow backend.\n"
          ],
          "name": "stderr"
        }
      ]
    },
    {
      "cell_type": "code",
      "metadata": {
        "id": "6jTuyrcBLJ_i",
        "colab_type": "code",
        "outputId": "85d18fd1-69c8-4f4c-e5c2-8d0667ccbf4e",
        "colab": {
          "base_uri": "https://localhost:8080/",
          "height": 51
        }
      },
      "source": [
        "(x_train,y_train),(x_test,y_test) = tf.keras.datasets.cifar10.load_data() \n",
        "\n",
        "y_train = tf.keras.utils.to_categorical(y_train)\n",
        "y_test = tf.keras.utils.to_categorical(y_test)\n",
        "\n",
        "x_train = (x_train-x_train.min()) / (x_train.max()-x_train.min())\n",
        "x_test = (x_test-x_test.min()) / (x_test.max()-x_test.min())\n",
        "\n"
      ],
      "execution_count": 0,
      "outputs": [
        {
          "output_type": "stream",
          "text": [
            "Downloading data from https://www.cs.toronto.edu/~kriz/cifar-10-python.tar.gz\n",
            "170500096/170498071 [==============================] - 11s 0us/step\n"
          ],
          "name": "stdout"
        }
      ]
    },
    {
      "cell_type": "code",
      "metadata": {
        "id": "VeZJBGsgLRhp",
        "colab_type": "code",
        "outputId": "32217dcb-b4b9-4f17-cf44-d2acb814ebf8",
        "colab": {
          "base_uri": "https://localhost:8080/",
          "height": 717
        }
      },
      "source": [
        "cnn = Sequential()\n",
        "\n",
        "cnn.add(Conv2D(32,kernel_size=(5,5),input_shape=(x_train.shape[1],x_train.shape[2],x_train.shape[3]),activation=\"relu\"))\n",
        "cnn.add(MaxPool2D())\n",
        "cnn.add(Conv2D(64,kernel_size=(5,5),activation=\"relu\"))\n",
        "cnn.add(MaxPool2D())\n",
        "cnn.add(Flatten())\n",
        "cnn.add(Dense(1024,activation=\"relu\"))\n",
        "cnn.add(Dense(10,activation=\"softmax\"))\n",
        "\n",
        "\n",
        "cnn.compile(optimizer=\"adam\",loss=\"categorical_crossentropy\",metrics=[\"accuracy\"])\n",
        "\n",
        "cnn.fit(x_train,y_train,epochs=10,validation_data=(x_test,y_test))\n"
      ],
      "execution_count": 0,
      "outputs": [
        {
          "output_type": "stream",
          "text": [
            "WARNING: Logging before flag parsing goes to stderr.\n",
            "W0802 21:23:35.026628 140088586844032 deprecation_wrapper.py:119] From /usr/local/lib/python3.6/dist-packages/keras/backend/tensorflow_backend.py:74: The name tf.get_default_graph is deprecated. Please use tf.compat.v1.get_default_graph instead.\n",
            "\n",
            "W0802 21:23:35.082280 140088586844032 deprecation_wrapper.py:119] From /usr/local/lib/python3.6/dist-packages/keras/backend/tensorflow_backend.py:517: The name tf.placeholder is deprecated. Please use tf.compat.v1.placeholder instead.\n",
            "\n",
            "W0802 21:23:35.093344 140088586844032 deprecation_wrapper.py:119] From /usr/local/lib/python3.6/dist-packages/keras/backend/tensorflow_backend.py:4138: The name tf.random_uniform is deprecated. Please use tf.random.uniform instead.\n",
            "\n",
            "W0802 21:23:35.148325 140088586844032 deprecation_wrapper.py:119] From /usr/local/lib/python3.6/dist-packages/keras/backend/tensorflow_backend.py:3976: The name tf.nn.max_pool is deprecated. Please use tf.nn.max_pool2d instead.\n",
            "\n",
            "W0802 21:23:35.216887 140088586844032 deprecation_wrapper.py:119] From /usr/local/lib/python3.6/dist-packages/keras/optimizers.py:790: The name tf.train.Optimizer is deprecated. Please use tf.compat.v1.train.Optimizer instead.\n",
            "\n",
            "W0802 21:23:35.247470 140088586844032 deprecation_wrapper.py:119] From /usr/local/lib/python3.6/dist-packages/keras/backend/tensorflow_backend.py:3295: The name tf.log is deprecated. Please use tf.math.log instead.\n",
            "\n",
            "W0802 21:23:35.410687 140088586844032 deprecation.py:323] From /usr/local/lib/python3.6/dist-packages/tensorflow/python/ops/math_grad.py:1250: add_dispatch_support.<locals>.wrapper (from tensorflow.python.ops.array_ops) is deprecated and will be removed in a future version.\n",
            "Instructions for updating:\n",
            "Use tf.where in 2.0, which has the same broadcast rule as np.where\n",
            "W0802 21:23:35.486057 140088586844032 deprecation_wrapper.py:119] From /usr/local/lib/python3.6/dist-packages/keras/backend/tensorflow_backend.py:986: The name tf.assign_add is deprecated. Please use tf.compat.v1.assign_add instead.\n",
            "\n"
          ],
          "name": "stderr"
        },
        {
          "output_type": "stream",
          "text": [
            "Train on 50000 samples, validate on 10000 samples\n",
            "Epoch 1/10\n",
            "50000/50000 [==============================] - 82s 2ms/step - loss: 1.4261 - acc: 0.4836 - val_loss: 1.2259 - val_acc: 0.5748\n",
            "Epoch 2/10\n",
            "50000/50000 [==============================] - 79s 2ms/step - loss: 1.0689 - acc: 0.6240 - val_loss: 1.0275 - val_acc: 0.6389\n",
            "Epoch 3/10\n",
            "50000/50000 [==============================] - 79s 2ms/step - loss: 0.8727 - acc: 0.6964 - val_loss: 0.9494 - val_acc: 0.6767\n",
            "Epoch 4/10\n",
            "50000/50000 [==============================] - 79s 2ms/step - loss: 0.7158 - acc: 0.7514 - val_loss: 0.9270 - val_acc: 0.6896\n",
            "Epoch 5/10\n",
            "50000/50000 [==============================] - 79s 2ms/step - loss: 0.5752 - acc: 0.7990 - val_loss: 0.9800 - val_acc: 0.6866\n",
            "Epoch 6/10\n",
            "50000/50000 [==============================] - 76s 2ms/step - loss: 0.4431 - acc: 0.8458 - val_loss: 1.0326 - val_acc: 0.6936\n",
            "Epoch 7/10\n",
            "50000/50000 [==============================] - 75s 2ms/step - loss: 0.3308 - acc: 0.8832 - val_loss: 1.0930 - val_acc: 0.6984\n",
            "Epoch 8/10\n",
            "50000/50000 [==============================] - 76s 2ms/step - loss: 0.2366 - acc: 0.9179 - val_loss: 1.2548 - val_acc: 0.6873\n",
            "Epoch 9/10\n",
            "50000/50000 [==============================] - 79s 2ms/step - loss: 0.1813 - acc: 0.9379 - val_loss: 1.4118 - val_acc: 0.6897\n",
            "Epoch 10/10\n",
            "50000/50000 [==============================] - 78s 2ms/step - loss: 0.1502 - acc: 0.9486 - val_loss: 1.5491 - val_acc: 0.6958\n"
          ],
          "name": "stdout"
        },
        {
          "output_type": "execute_result",
          "data": {
            "text/plain": [
              "<keras.callbacks.History at 0x7f68abf74c18>"
            ]
          },
          "metadata": {
            "tags": []
          },
          "execution_count": 4
        }
      ]
    },
    {
      "cell_type": "code",
      "metadata": {
        "id": "AqPkp6v0SrCJ",
        "colab_type": "code",
        "colab": {}
      },
      "source": [
        "from PIL import Image\n",
        "\n",
        "labels = [\"airplane\",\"automobile\",\"bird\",\"cat\",\"deer\",\"dog\",\"frog\",\"horse\",\"ship\",\"truck\"]\n",
        "\n",
        "\n",
        "def predict(file) :\n",
        "  img = Image.open(file).convert(\"RGB\").resize((32,32),Image.ANTIALIAS)\n",
        "  im = np.asarray(img)\n",
        "\n",
        "\n",
        "  p.imshow(im)\n",
        "\n",
        "  i = im.reshape(1,im.shape[0],im.shape[1],im.shape[2])\n",
        "\n",
        "  predict = cnn.predict(i)\n",
        "\n",
        "\n",
        "  l = np.argmax(predict)\n",
        "\n",
        "  print(labels[l])"
      ],
      "execution_count": 0,
      "outputs": []
    },
    {
      "cell_type": "code",
      "metadata": {
        "id": "MpvCVTwBRdyq",
        "colab_type": "code",
        "outputId": "680128d5-81cc-4aba-9961-702757f5c3f3",
        "colab": {
          "base_uri": "https://localhost:8080/",
          "height": 286
        }
      },
      "source": [
        "predict(\"maxresdefault.jpg\")"
      ],
      "execution_count": 0,
      "outputs": [
        {
          "output_type": "stream",
          "text": [
            "airplane\n"
          ],
          "name": "stdout"
        },
        {
          "output_type": "display_data",
          "data": {
            "image/png": "[encoded data removed]",
            "text/plain": [
              "<Figure size 432x288 with 1 Axes>"
            ]
          },
          "metadata": {
            "tags": []
          }
        }
      ]
    }
  ]
}